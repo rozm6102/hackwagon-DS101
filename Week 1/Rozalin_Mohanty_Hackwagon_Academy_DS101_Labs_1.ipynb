{
 "cells": [
  {
   "cell_type": "markdown",
   "metadata": {},
   "source": [
    "<img src=\"https://i2.wp.com/hackwagon.com/wp-content/uploads/2017/02/Logo-Web-Export.png?ssl=1\" width=150/>\n",
    "\n",
    "<h1> Hackwagon Academy - DS101 Lab 1 </h1>\n",
    "<hr>\n",
    "This lab exercise consists of 5 questions, with each correct answer to be awarded 1 mark, totalling up to 5 marks.\n",
    "\n",
    "<b> Codes with any errors/ mistakes are awarded 0 marks </b>"
   ]
  },
  {
   "cell_type": "code",
   "execution_count": null,
   "metadata": {},
   "outputs": [],
   "source": [
    "#Before you start, please perform the following 2 steps:\n",
    "#1. Rename the file to <First_Name>_<Last_Name>_DS101_Lab_1 e.g. john_doe_DS101_Lab_1\n",
    "\n",
    "#2. Fill in your details here:\n",
    "#Name                    : __Rozalin Mohanty______\n",
    "\n",
    "#Start of Course Class(Edit accordingly): __18 Jul 2020 12.30pm____\n",
    "\n",
    "# FOR TA/INSTRUCTOR:\n",
    "# Total Marks:  / 10"
   ]
  },
  {
   "cell_type": "markdown",
   "metadata": {},
   "source": [
    "### Question 1 <font color='red'>[2 marks]</font>\n",
    "Find out the type of the following variables by:\n",
    "1. Printing its type using the `type( )` function shown in class\n",
    "2. Writing its type as a comment below each variable\n",
    "\n",
    "#### Expected Output:\n",
    "    <class 'str'>\n",
    "    <class 'str'>\n",
    "    <class 'int'>\n",
    "    <class 'int'>\n",
    "    <class 'float'>\n",
    "    <class 'bool'>"
   ]
  },
  {
   "cell_type": "code",
   "execution_count": 5,
   "metadata": {},
   "outputs": [
    {
     "name": "stdout",
     "output_type": "stream",
     "text": [
      "<class 'str'>\n",
      "<class 'str'>\n",
      "<class 'int'>\n",
      "<class 'int'>\n",
      "<class 'float'>\n",
      "<class 'bool'>\n"
     ]
    }
   ],
   "source": [
    "# EXAMPLE\n",
    "# example = \"example\"  \n",
    "# print(type(example))\n",
    "# The type is String \n",
    "\n",
    "# Write your answers below:\n",
    "\n",
    "Channel_Title = \"20th Century Fox\"\n",
    "print (type(Channel_Title))\n",
    "# string\n",
    "\n",
    "Title = 'Pirates of the Caribbean'\n",
    "print (type(Title))\n",
    "# string \n",
    "\n",
    "Likes = 23009\n",
    "print (type(Likes))\n",
    "# integer\n",
    "\n",
    "Comments = 2000\n",
    "print (type(Comments))\n",
    "# integer \n",
    "\n",
    "Rating = 4.7\n",
    "print (type(Rating))\n",
    "# float\n",
    "\n",
    "Popular = True\n",
    "print (type(Popular))\n",
    "# boolean\n"
   ]
  },
  {
   "cell_type": "markdown",
   "metadata": {},
   "source": [
    "### Question 2 <font color='red'>[2 marks]</font>\n",
    "One of the typical metrics for measuring the engagement of videos is through <u>comments per view</u>. Given the following data, write a program to measure the comments per view of \"Lord of the Rings\"\n",
    "\n",
    "#### Expected Output: \n",
    "\n",
    "    Lord of the Rings has an engagement rate of : 0.0009927857568336753"
   ]
  },
  {
   "cell_type": "code",
   "execution_count": 20,
   "metadata": {},
   "outputs": [
    {
     "name": "stdout",
     "output_type": "stream",
     "text": [
      "Lord of the Rings has an engagement rate of : 0.0009927857568336753\n"
     ]
    }
   ],
   "source": [
    "title = \"Lord of the Rings\" \n",
    "number_of_comments = \"30\" \n",
    "number_of_views = 30218\n",
    "\n",
    "# Write your answer below (WITHOUT MODIFYING THE CODES ABOVE):\n",
    "\n",
    "comments_per_view = int(number_of_comments) / number_of_views \n",
    "print (\"Lord of the Rings has an engagement rate of :\" , str(comments_per_view)) \n",
    "\n",
    "\n"
   ]
  },
  {
   "cell_type": "markdown",
   "metadata": {},
   "source": [
    "### Question 3 <font color='red'>[2 marks]</font>\n",
    "The title of the video in `movie_title` contains some special characters. Make use of <u>string indexing</u> to remove them\n",
    "\n",
    "#### Expected Output:\n",
    "\n",
    "    The Lion King\n"
   ]
  },
  {
   "cell_type": "code",
   "execution_count": 29,
   "metadata": {},
   "outputs": [
    {
     "name": "stdout",
     "output_type": "stream",
     "text": [
      "The Lion King\n"
     ]
    }
   ],
   "source": [
    "movie_title = \"The Li&@#(on King\" \n",
    "\n",
    "# Write your answer below:\n",
    "\n",
    "print (movie_title [:6] + movie_title [-7:])\n"
   ]
  },
  {
   "cell_type": "markdown",
   "metadata": {},
   "source": [
    "### Question 4 <font color='red'>[2 marks]</font>\n",
    "\n",
    "##### YOUTUBE ENGAGEMENT RATE\n",
    "One of the common metrics used to evaluate YouTube channel success is the engagement rate (formula given below):\n",
    "<div class=\"alert alert-block alert-info\"><center>engagement_rate = video_comments / video_views\n",
    " </center></div>"
   ]
  },
  {
   "cell_type": "markdown",
   "metadata": {},
   "source": [
    "A newbie to programming wrote the following piece of code to calculate the engagement of a video. However, his codes were met with syntax, logic bugs and exceptions. Debug the following code for him:\n",
    "\n",
    "#### Expected Output:\n",
    "\n",
    "    The engagement rate is: 0.2857142857142857"
   ]
  },
  {
   "cell_type": "code",
   "execution_count": 35,
   "metadata": {},
   "outputs": [
    {
     "name": "stdout",
     "output_type": "stream",
     "text": [
      "The engagement rate is: 0.2857142857142857\n"
     ]
    }
   ],
   "source": [
    "#debug the following\n",
    "\n",
    "Number_of_views = \"35000\" \n",
    "Number_of_comments = 10000\n",
    "\n",
    "engagement = Number_of_comments / int(Number_of_views)\n",
    "\n",
    "print (\"The engagement rate is: \" + str(engagement))"
   ]
  },
  {
   "cell_type": "markdown",
   "metadata": {},
   "source": [
    "### Question 5 <font color='red'>[2 marks]</font>\n",
    "Another newbie to programming wrote the following piece of code to calculate the engagement of a video. However, her codes were met with syntax, logic bugs and exceptions. Debug the following code for her:\n",
    "\n",
    "#### Expected Output: \n",
    "\n",
    "    The engagement rate is: 0.00025874580309758475"
   ]
  },
  {
   "cell_type": "code",
   "execution_count": 36,
   "metadata": {},
   "outputs": [
    {
     "name": "stdout",
     "output_type": "stream",
     "text": [
      "The engagement rate is: 0.00025874580309758475\n"
     ]
    }
   ],
   "source": [
    "#debug the following\n",
    "\n",
    "Num_of_comments = 2389\n",
    "Num_of_views = 9233000\n",
    "\n",
    "Engagement_lvl = Num_of_comments / Num_of_views\n",
    "\n",
    "print(\"The engagement rate is: \" + str(Engagement_lvl))"
   ]
  },
  {
   "cell_type": "markdown",
   "metadata": {},
   "source": [
    "<div class=\"alert alert-success\">\n",
    "    <b>Checkpoint</b>: You are done! Upload your progress to eLearn. eLearn only accepts the latest notebooks so if you have an existing notebook, your latest upload will <b>overwrite</b> it.\n",
    "</div>"
   ]
  },
  {
   "cell_type": "markdown",
   "metadata": {},
   "source": [
    "### Last to do\n",
    "Watch the following short videos in preparation for the next lesson:\n",
    "\n",
    "Strings, Lists, Tuples, and Dictionaries: https://www.youtube.com/watch?v=19EfbO5D_8s <br>\n",
    "Conditionals, If, Else, Elif: https://www.youtube.com/watch?v=mQrci1kAwh4\n"
   ]
  }
 ],
 "metadata": {
  "kernelspec": {
   "display_name": "Python 3",
   "language": "python",
   "name": "python3"
  },
  "language_info": {
   "codemirror_mode": {
    "name": "ipython",
    "version": 3
   },
   "file_extension": ".py",
   "mimetype": "text/x-python",
   "name": "python",
   "nbconvert_exporter": "python",
   "pygments_lexer": "ipython3",
   "version": "3.7.3"
  }
 },
 "nbformat": 4,
 "nbformat_minor": 2
}
