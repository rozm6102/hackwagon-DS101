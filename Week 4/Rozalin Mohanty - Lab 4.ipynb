{
 "cells": [
  {
   "cell_type": "markdown",
   "metadata": {},
   "source": [
    "<img src=\"https://i2.wp.com/hackwagon.com/wp-content/uploads/2017/02/Logo-Web-Export.png?ssl=1\" width=200/>\n",
    "<h1> Hackwagon Academy - DS101 Lab 4</h1>\n",
    "\n",
    "**Learning Outcomes:**\n",
    "- Learn how to translate business requirements into workable applications\n",
    "- Declare variables, and manipulate the variables to perform arithmetic operations\n",
    "- Create a list, append new elements to a list, remove elements from list, and access elements within a list\n",
    "- Create a dictionary, access data, and update information within the dictionary\n",
    "- Be able to aptly make use of if and nested if constructs\n",
    "- Variable conversion\n",
    "\n",
    "This lab exercise consists of 10 questions, with each correct answer to be awarded full marks.\n",
    "\n",
    "<b> Codes with any errors/ mistakes are awarded 0 marks </b>"
   ]
  },
  {
   "cell_type": "code",
   "execution_count": null,
   "metadata": {},
   "outputs": [],
   "source": [
    "#Before you start, please perform the following 2 steps:\n",
    "#1. Rename the file to <First_Name>_<Last_Name>_DS101_Lab_1 e.g. john_doe_DS101_Lab_1\n",
    "\n",
    "#2. Fill in your details here:\n",
    "#Name                    : __Rozalin Mohanty____\n",
    "\n",
    "#Start of Course Class(Edit accordingly): __18 Jul 2020 12.30pm____\n",
    "\n",
    "# FOR TA/INSTRUCTOR \n",
    "# Total Marks:  / 40"
   ]
  },
  {
   "cell_type": "markdown",
   "metadata": {},
   "source": [
    "<h3> References </h3>\n",
    "\n",
    "<h3> <center> Important Collections Functions </center> </h3>\n",
    "<h3> <center> Creation </center></h3>\n",
    "\n",
    "|Collection Type | Function | Examples |\n",
    "| ---------|---------|---------|\n",
    "| `list` | <center>None</center>| `new_list = []` <br><br> `new_list = [1,2,3,4]` |\n",
    "| `dict` | <center>None</center>| `new_dict = {}` <br><br> `new_dict = {'a': 1, 'b':2}`|\n",
    "\n",
    "<h3><center> Add / Appending Data </center></h3>\n",
    "\n",
    "|Collection Type | Functions | Examples | Resulting Output|\n",
    "| ---------|---------|---------| ------ |\n",
    "| `list` | <center>`.append()`</center>| `new_list = [1,2,3]` <br><br> `new_list.append(4)` | `[1,2,3,4]`|\n",
    "| `list` | <center>`.extend()`</center>| `new_list = [1,2]` <br><br> `new_list.extend([3,4])` | `[1,2,3,4]`|\n",
    "| `dict` | <center>None</center>| `new_dict = {}` <br><br> `new_dict['a'] = 1` <br><br> `new_dict['b'] = 2` | `{'a': 1, 'b':2}`|\n",
    "\n",
    "<h3> <center> Updating / Changing Data </center></h3>\n",
    "\n",
    "|Collection Type | Functions | Examples | Resulting Output|\n",
    "| ---------|---------|---------| ------ |\n",
    "| `list` | <center>None</center>| `new_list = [1,2,3]` <br><br> `new_list[0] = 5` | `[5,2,3]`|\n",
    "| `dict` | <center>None</center>| `new_dict = {'a': 1, 'b':2}` <br><br> `new_dict['a'] = 10`| `{'a': 10, 'b':2}`|\n",
    "\n",
    "<h3> <center> Accessing / Taking Out Data </center></h3>\n",
    "\n",
    "|Collection Type | Functions | x to be| Examples |\n",
    "| ---------|---------|---------| ------ |\n",
    "| `list` | <center>None</center>| 3 |`new_list = [1,2,3]` <br><br> `x = new_list[2] `|\n",
    "| `list of list` | <center>None</center>|3 |`new_list = [[1,2],[3,4]]` <br><br> `x = new_list[1][0] `|\n",
    "| `list of dict` | <center>None</center>| 2 |`new_list = [{'a':1},{'b':2}]` <br><br> `x = new_list[1]['b'] `|\n",
    "| `dict` | <center>None</center>| 2|`new_dict = {'a': 1, 'b':2}` <br><br> `x = new_dict['b']`|\n",
    "\n",
    "<h3>CIETU Framework & Applied Iterations</h3>\n",
    "\n",
    "What variables do you need to answer this question?\n",
    "1. <b>Create</b> the results container\n",
    "2. <b>Iterate</b> the input data/list\n",
    "3. <b>Extract</b> the variables needed in step 1\n",
    "4. <b>Test</b> conditions of each value\n",
    "5. <b>Update</b> the results container when condition is fulfilled"
   ]
  },
  {
   "cell_type": "markdown",
   "metadata": {},
   "source": [
    "## Warm Up\n",
    "The warm up questions below are important as you will later realise the questions after that will require the same concepts. So please don't forget these warm up questions."
   ]
  },
  {
   "cell_type": "markdown",
   "metadata": {},
   "source": [
    "### Question 1 <font color='red'>[1 mark]</font>\n",
    "Counting with dictionaries is a concept which will be used later in this lab exercise. With the given list `data`, count the number of letters each unique letter has and store them into a dictionary, `result`. \n",
    "```python\n",
    "    ['a','b','c','b','b','a','a','b']\n",
    "```\n",
    "\n",
    "\n",
    "**Expected Output:**\n",
    "```python\n",
    "    {\n",
    "        'a': 3,\n",
    "        'b': 4,\n",
    "        'c': 1\n",
    "    }\n",
    "```"
   ]
  },
  {
   "cell_type": "code",
   "execution_count": 70,
   "metadata": {},
   "outputs": [
    {
     "name": "stdout",
     "output_type": "stream",
     "text": [
      "{'a': 3, 'b': 4, 'c': 1}\n"
     ]
    }
   ],
   "source": [
    "data = ['a','b','c','b','b','a','a','b']\n",
    "\n",
    "# result is created for you, you have to create your own result container in the next questions\n",
    "result = {}\n",
    "\n",
    "# Write your code below:\n",
    "\n",
    "for letter in data: \n",
    "    \n",
    "    if letter not in result:\n",
    "        result[letter] = 1 \n",
    "        \n",
    "    else: \n",
    "        result[letter] += 1 \n",
    "\n",
    "print (result)\n"
   ]
  },
  {
   "cell_type": "markdown",
   "metadata": {},
   "source": [
    "<b style=\"color:red\">TA's comments:</b><br>\n",
    "Correct :)"
   ]
  },
  {
   "cell_type": "markdown",
   "metadata": {},
   "source": [
    "### Question 2  <font color='red'>[1 mark]</font>\n",
    "A common theme in this lab will be taking out data from a list of many list where each list is 1 row of data. This warm up is to make you familiar with this concept because you will be using it in almost every question.\n",
    "\n",
    "`data` has the following structure:\n",
    "```python\n",
    "    [\n",
    "        [\n",
    "            'Video A', # Title - Index 0\n",
    "            '500'      # Views - Index 1\n",
    "        ],\n",
    "        [\n",
    "            'Video B', # Title - Index 0\n",
    "            '300'      # Views - Index 1\n",
    "        ],\n",
    "        [\n",
    "            'Video C', # Title - Index 0\n",
    "            '1000'     # Views - Index 1\n",
    "        ]\n",
    "    ]\n",
    "```\n",
    "\n",
    "Get the total video views based on `data`. \n",
    "\n",
    "**Expected Output:**\n",
    "\n",
    "    1800"
   ]
  },
  {
   "cell_type": "code",
   "execution_count": 15,
   "metadata": {},
   "outputs": [
    {
     "name": "stdout",
     "output_type": "stream",
     "text": [
      "1800\n"
     ]
    }
   ],
   "source": [
    "data = [\n",
    "    ['Video A','500'],\n",
    "    ['Video B','300'],\n",
    "    ['Video C','1000']\n",
    "]\n",
    "\n",
    "# result is created for you, you have to create your own result container in the next questions\n",
    "result = 0\n",
    "\n",
    "# Write your code below:\n",
    "\n",
    "for video in data: \n",
    "    result += int(video[1]) \n",
    "    \n",
    "print (result)\n"
   ]
  },
  {
   "cell_type": "markdown",
   "metadata": {},
   "source": [
    "<b style=\"color:red\">TA's comments:</b><br>\n",
    "Correct :)"
   ]
  },
  {
   "cell_type": "markdown",
   "metadata": {},
   "source": [
    "## YouTube Data Analyst\n",
    "\n",
    "<b>Problem Background:</b><br>\n",
    "You are a data analyst at <b><i>YouTube</b></i>. <b><i>HBO</b></i>, the premium American cable and satellite television network company has recently engaged Youtube to provide insights about trending content amongst the average American viewers. HBO wants these insights to help plan new content to further increase its market share in the US market."
   ]
  },
  {
   "cell_type": "markdown",
   "metadata": {},
   "source": [
    "## USComments.csv - Sentiment Analysis\n",
    "\n",
    "**Upload the  data from CSV (data is in the same format as shown in the table above) into python collections**\n",
    "\n",
    "Generally, most company’s data are captured in databases or CSVs. As a start state, we will learn how to extract a company’s data from a CSV folder and populate them into python variables. Specifically we will populate python collections with the data extracted from the CSVs.\n",
    "\n",
    "Just run the code in the first cell in the jupyter notebook, and the code will automatically extract the data from the CSV USVideos.csv and populate the data into a python list `youtube_usa_videos`. \n",
    "\n",
    "The data printed out is just a sample of the first 5 rows of the data. (Don’t worry about the fact that you don’t understand this piece of code now, we will teach everyone how to extract data in week 5). \n",
    "\n",
    "**Parsing comments to understand trends**\n",
    "\n",
    "Through the comments made by viewers, we can also somewhat understand about the level of interest in select topics. This is where the use of the next csv file in this folder, <b><i>USComments.csv</b></i>, comes into play. We have provided a piece of code that, when executed, will extract the comments data from the CSV and populate the python list `usa_video_comments`. The specific data type provided are as shown:\n",
    "\n",
    "<table>\n",
    "<tr><th>Index</th> <th>Data Category</th>\t<th>Description of data</th></tr>\n",
    "<tr><td>0</td>\t<td>Video_ID</td> <td>The unique ID given for each video on youtube</td></tr>\n",
    "<tr><td>1</td>\t<td>Comment_text</td> <td>\tThe specific comment made on the video</td></tr>\n",
    "<tr><td>2</td>\t<td>Likes</td> <td>The number of likes for the comment</td></tr>\n",
    "<tr><td>3</td>\t<td>Replies\t</td> <td>The replies made to the comment </td></tr>\n",
    "</table>\n"
   ]
  },
  {
   "cell_type": "markdown",
   "metadata": {},
   "source": [
    "<p>For the part below you just have to upload USComments.csv into the same file directory and run the following code. This will fill `usa_video_comments` with all the video comments.</p>\n",
    "\n",
    "Example of `usa_video_comments`:\n",
    "```python\n",
    "    [\n",
    "        [ # Row  0\n",
    "            'XpVt6Z1Gjjo',  #Video Id - Index 0\n",
    "            \"I've been following you from the start of your vine channel and have seen all 365 vlogs\", #Comment Text - Index 1\n",
    "            '3', #Likes - Index 2\n",
    "            '0'], #Replies - Index 3\n",
    "        [ # Row  1\n",
    "            'XpVt6Z1Gjjo', #Video Id - Index 0\n",
    "            'Say hi to Kong and maverick for me', #Comment Text - Index 1\n",
    "            '3', #Likes - Index 2\n",
    "            '0'#Replies - Index 3\n",
    "        ]\n",
    "    ]\n",
    "```\n",
    "\n",
    "\n",
    "<b><font color='red'> You only have to execute this next cell by pressing <b>`SHIFT-ENTER` or `SHIFT-RETURN` or the`Run Button`</font></b>"
   ]
  },
  {
   "cell_type": "code",
   "execution_count": 9,
   "metadata": {},
   "outputs": [
    {
     "data": {
      "text/plain": [
       "[['XpVt6Z1Gjjo', \"Logan Paul it's yo big day ‼️‼️‼️\", '4', '0'],\n",
       " ['XpVt6Z1Gjjo',\n",
       "  \"I've been following you from the start of your vine channel and have seen all 365 vlogs\",\n",
       "  '3',\n",
       "  '0'],\n",
       " ['XpVt6Z1Gjjo', 'Say hi to Kong and maverick for me', '3', '0']]"
      ]
     },
     "execution_count": 9,
     "metadata": {},
     "output_type": "execute_result"
    }
   ],
   "source": [
    "#Open the CSV file and read the content\n",
    "import csv\n",
    "with open('USComments.csv', encoding=\"utf-8\") as file:\n",
    "    \n",
    "    #Train a file reader\n",
    "    reader = csv.reader( (line.replace('\\0','') for line in file) )\n",
    "    \n",
    "    #this reads and remove the first line of the data, which is the header of the csv\n",
    "    #We do this because we only want the data and not the header\n",
    "    header = next(reader)\n",
    "    \n",
    "    #Create a list to hold all the csv data\n",
    "    usa_video_comments = []\n",
    "    \n",
    "    #This will iterate through each data row in reader, and store in 'row' variable\n",
    "    for row in reader:\n",
    "        \n",
    "        usa_video_comments.append(row)\n",
    "    \n",
    "\n",
    "#print first three rows of the data\n",
    "usa_video_comments[0:3]\n",
    "        "
   ]
  },
  {
   "cell_type": "markdown",
   "metadata": {},
   "source": [
    "### Question 3 <font color='red'>[2 marks]</font>\n",
    "\n",
    "Right now, HBO has a few themes for a new movie which they are interested to explore but they first want to ascertain the interest level in those themes. \n",
    "\n",
    "Given 2 themes: <b>horror or fantasy</b>, find out **the total number of mentions of each of those themes** amongst all the comments. A comment is considered to have one mention as long as the word exist once within the sentence.\n",
    "\n",
    "<i>Hints\n",
    "1. This problem requires only one single for loop. To see how to make use of the loop, relook at your question 2.\n",
    "2. Make use of the **keyword 'in' + conditionals** to check if a word exists within a sentence\n",
    "3. Be careful with the case sensitivity. If \"Fantasy\" or \"Horror\" word exist, increment the count as well. \n",
    "4. To tackle the case sensitivity, consider using the method known as `.lower()` for string.\n",
    "</i>\n",
    "\n",
    "**Expected Output:** \n",
    "```python\n",
    "    {\n",
    "        'fantasy': 233, \n",
    "        'horror': 717\n",
    "    }\n",
    "```"
   ]
  },
  {
   "cell_type": "code",
   "execution_count": 11,
   "metadata": {},
   "outputs": [
    {
     "name": "stdout",
     "output_type": "stream",
     "text": [
      "{'fantasy': 233, 'horror': 717}\n"
     ]
    }
   ],
   "source": [
    "#Populate themes_and_likes with the answer\n",
    "themes_and_likes = {\"fantasy\":0, \"horror\":0}\n",
    "\n",
    "# Write your code below:\n",
    "    # Video ID - Index 0 \n",
    "    # Comments - Index 1 \n",
    "    # Likes - Index 2 \n",
    "    # Replies - Index 3 \n",
    "\n",
    "for row in usa_video_comments: \n",
    "    comment = row[1]\n",
    "    \n",
    "    if \"fantasy\" in comment.lower(): \n",
    "        themes_and_likes[\"fantasy\"] += 1 \n",
    "        \n",
    "    if \"horror\" in comment.lower(): \n",
    "        themes_and_likes[\"horror\"] += 1 \n",
    "        \n",
    "print (themes_and_likes)\n",
    "\n"
   ]
  },
  {
   "cell_type": "markdown",
   "metadata": {},
   "source": [
    "<b style=\"color:red\">TA's comments:</b><br>\n",
    "Correct :)"
   ]
  },
  {
   "cell_type": "markdown",
   "metadata": {},
   "source": [
    "### Question 4 <font color='red'>[2 marks]</font>\n",
    "\n",
    "**Consolidating the number of positive sentiments for all videos**\n",
    "\n",
    "For all the videos in the `usa_video_comments`, help consolidate them into a dictionary, with the video_id being the key, and the value pair being the number of positive comments (contains the word 'good') which it has received. <br> \n",
    "\n",
    "There are more than 1 methods to do this question. The following hint proposes 2 for loops to solve this question. But it is also possible to solve this with just a single loop.\n",
    "\n",
    "<i> Hints \n",
    "1. Create the appropriate results containers\n",
    "2. Recall warmup question 2\n",
    "3. Use 2 INDEPENDENT for loops\n",
    "    - 1st for loop (Loop through video comments):\n",
    "        - Creates a first key value pair of the dictionary, where key = videoid, value = 0\n",
    "        - You should expect all the values corresponding to each key to be 0 <br>\n",
    "    - 2nd for loop (Loop through video comments): \n",
    "        - Take out each comment and check if that comment contains the word `good`. \n",
    "        - If so, increase the count of that video id by 1\n",
    "4. The concept of this question is similar to Warmup Qns 2 - We are trying to use dictionary + For Loop to store the number of comments for each video_ID.\n",
    "5. Explore the `.lower()` function\n",
    "</i>\n",
    "\n",
    "**Expected Output:**\n",
    "\n",
    "**Try testing your answer by printing the following:**\n",
    "\n",
    "When calling for video_id, `O78Lpo4ctSE`, the count should be 30.\n",
    "```python\n",
    "    print(video_and_num_of_comments['O78Lpo4ctSE']) # Gives 30\n",
    "```\n",
    "\n",
    "When calling for video_id, `1k_whpRADOE`, the count should be 29.\n",
    "```python\n",
    "    print(video_and_num_of_comments['1k_whpRADOE']) # Gives 29\n",
    "```"
   ]
  },
  {
   "cell_type": "code",
   "execution_count": 30,
   "metadata": {},
   "outputs": [
    {
     "name": "stdout",
     "output_type": "stream",
     "text": [
      "30\n",
      "29\n"
     ]
    }
   ],
   "source": [
    "#Populate the following dictionary with the required data\n",
    "video_and_num_of_comments = {}\n",
    "\n",
    "# Write your code below:\n",
    "    # Video ID - Index 0 \n",
    "    # Comments - Index 1 \n",
    "    # Likes - Index 2 \n",
    "    # Replies - Index 3 \n",
    "\n",
    "# 1st for loop: Creates a first key value pair of the dictionary, where key = videoid, value = 0\n",
    "for row in usa_video_comments: \n",
    "   \n",
    "    video_id = row[0]\n",
    "    comments = row[1]\n",
    "    \n",
    "    if video_id not in video_and_num_of_comments: \n",
    "        video_and_num_of_comments[video_id] = 0 \n",
    "\n",
    "# 2nd for loop: Take out each comment and check if that comment contains the word \"good\". + 1 if it does. \n",
    "for row in usa_video_comments:\n",
    "    \n",
    "    video_id = row[0]\n",
    "    comments = row[1]\n",
    "    \n",
    "    if \"good\" in comments.lower(): \n",
    "        video_and_num_of_comments[video_id] += 1\n",
    "\n",
    "# Testing whether it works \n",
    "print(video_and_num_of_comments['O78Lpo4ctSE'])\n",
    "print(video_and_num_of_comments['1k_whpRADOE'])\n",
    "        \n",
    "# Is any benefit to separating the two steps into two independent loops vs having them together in one loop?\n",
    "# By contrast with question 8, there is no filter step here. \n",
    "\n"
   ]
  },
  {
   "cell_type": "markdown",
   "metadata": {},
   "source": [
    "<b style=\"color:red\">TA's comments:</b><br>\n",
    "Correct :) <br>\n",
    "The only benefit is if it helps you to be less confused. Downside is your code will have to do more calculations and take slightly longer to run"
   ]
  },
  {
   "cell_type": "markdown",
   "metadata": {},
   "source": [
    "If you managed to solve this question, here's a neat trick: \n",
    "\n",
    "Take any video id you see in this dictionary, copy and paste it into a youtube url, for example: \n",
    "\n",
    "    https://youtu.be/<your video id here> \n",
    "    \n",
    "You should see a video based on that id and see if you think that video is worth that many `good`s."
   ]
  },
  {
   "cell_type": "markdown",
   "metadata": {},
   "source": [
    "## USVideos.csv - Descriptive Analytics\n",
    "\n",
    "**Data Provided:**\n",
    "\n",
    "For the project, we will be using YouTube’s organic data (real data from youtube): the views, along with the likes, dislikes and comments about different videos to uncover the latest preferences amongst the American viewers. The specific data type provided to us are as follows:\n",
    "\n",
    "<table>\n",
    "<tr><th>Index</th> <th>Data Category</th>\t<th>Description of data</th></tr>\n",
    "<tr><td>0</td>\t<td>Video_ID</td> <td>The unique ID given for each video on youtube</td></tr>\n",
    "<tr><td>1</td>\t<td>Title</td> <td>\tThe title of the video given by the owner that uploaded the video on youtube</td></tr>\n",
    "<tr><td>2</td>\t<td>Channel_Title</td> <td>\tThe title of the channel of the video uploader. E.g. Night Owl Cinematics</td></tr>\n",
    "<tr><td>3</td>\t<td>Category_ID\t</td> <td>The ID of the category which the video belongs to </td></tr>\n",
    "<tr><td>4</td>\t<td>Tags</td> <td>\tThe tags associated with the particular video. Serves as a general summary of the content of the video</td></tr>\n",
    "<tr><td>5</td>\t<td>Views</td> <td>\tThe numbers of views which the video has clocked. Serves as a measure of the popularity/outreach of the video</td></tr>\n",
    "<tr><td>6</td>\t<td>Likes</td> <td>\tThe number of likes which the video has clocked </td></tr>\n",
    "<tr><td>7</td>\t<td>Dislikes</td> <td>\tThe number of dislikes which the video has clocked</td></tr>\n",
    "<tr><td>8</td>\t<td>comment_total</td> <td>\tThe number of comments which viewers has made</td></tr>\n",
    "<tr><td>9</td> <td>thumbnail_link</td> <td>\tThe link that leads to the thumbnail image of the video</td></tr>\n",
    "<tr><td>10</td> <td>Date</td> <td>\tThe date which all these statistics were last captured</td></tr>\n",
    "</table>"
   ]
  },
  {
   "cell_type": "markdown",
   "metadata": {},
   "source": [
    "\n",
    "**Upload the  data from CSV (data is in the same format as shown in the table above) into python collections**\n",
    "\n",
    "The data printed out is just a sample of the first 5 rows of the data. (Don’t worry about the fact that you don’t understand this piece of code now, we will teach everyone how to extract data in week 5). \n",
    "\n",
    "Example of `youtube_usa_videos`:\n",
    "```python\n",
    "    [\n",
    "        [ # Row 0\n",
    "            'K4wEI5zhHB0', # VideoId - Index 0\n",
    "            'iPhone X — Introducing iPhone X — Apple', # Video Title - Index 1\n",
    "            'Apple', # Channel Title - Index 2\n",
    "            '28',  #Category Id - Index 3\n",
    "            'Apple|iPhone 10|iPhone Ten|iPhone|Portrait Lighting|A11 Bionic|augmented reality|emoji|animoji|Face ID|Apple Pay|camera|smartphone', #Tags - Index 4\n",
    "            '7860119', # Views - Index 5\n",
    "            '185853',  # Likes - Index 6\n",
    "            '26679', # Dislikes - Index 7\n",
    "            '0', # Comment Total - Index 8\n",
    "            'https://i.ytimg.com/vi/K4wEI5zhHB0/default.jpg', # Thumbnail Link - Index 9\n",
    "            '13.09' # date - Index 10\n",
    "        ], \n",
    "        [ # Row 1\n",
    "            'cLdxuaxaQwc', #Video Id - Index 0\n",
    "            'My Response', # Video Title - Index 1\n",
    "            'PewDiePie', # Channel Title - Index 2\n",
    "            '22',  # Category Id - Index 3\n",
    "            '[none]',  # Tags - Index 4\n",
    "            '5845909', # Views - Index 5\n",
    "            '576597',  # Likes - Index 6 \n",
    "            '39774',  # Dislikes - Index 7\n",
    "            '170708',  # Comment Total - Index 8\n",
    "            'https://i.ytimg.com/vi/cLdxuaxaQwc/default.jpg',  # Thumbnail Link - Index 9\n",
    "            '13.09' # Date - Index 10\n",
    "        ]\n",
    "    ]\n",
    "```\n",
    "\n",
    "\n",
    "<b><font color='red'> You only have to execute this next cell by pressing <b>`SHIFT-ENTER` or `SHIFT-RETURN` or the`Run Button`</font></b>"
   ]
  },
  {
   "cell_type": "code",
   "execution_count": 23,
   "metadata": {},
   "outputs": [
    {
     "data": {
      "text/plain": [
       "[['XpVt6Z1Gjjo',\n",
       "  '1 YEAR OF VLOGGING -- HOW LOGAN PAUL CHANGED YOUTUBE FOREVER!',\n",
       "  'Logan Paul Vlogs',\n",
       "  '24',\n",
       "  'logan paul vlog|logan paul|logan|paul|olympics|logan paul youtube|vlog|daily|comedy|hollywood|parrot|maverick|bird|maverick clothes|diamond play button|logan paul diamond play button|10M subscribers|logan paul 1 year vlogging|1 year vlog|dwarf mamba play button|logan paul history|youtube history|10M|10M plaque|youtube button|diamond button|logang|logang 4 life',\n",
       "  '6232518',\n",
       "  '373824',\n",
       "  '23701',\n",
       "  '39144',\n",
       "  'https://i.ytimg.com/vi/XpVt6Z1Gjjo/default.jpg',\n",
       "  '19.09'],\n",
       " ['K4wEI5zhHB0',\n",
       "  'iPhone X — Introducing iPhone X — Apple',\n",
       "  'Apple',\n",
       "  '28',\n",
       "  'Apple|iPhone 10|iPhone Ten|iPhone|Portrait Lighting|A11 Bionic|augmented reality|emoji|animoji|Face ID|Apple Pay|camera|smartphone',\n",
       "  '19707391',\n",
       "  '381919',\n",
       "  '69465',\n",
       "  '0',\n",
       "  'https://i.ytimg.com/vi/K4wEI5zhHB0/default.jpg',\n",
       "  '17.09'],\n",
       " ['cLdxuaxaQwc',\n",
       "  'My Response',\n",
       "  'PewDiePie',\n",
       "  '22',\n",
       "  '[none]',\n",
       "  '8808424',\n",
       "  '706104',\n",
       "  '57280',\n",
       "  '135649',\n",
       "  'https://i.ytimg.com/vi/cLdxuaxaQwc/default.jpg',\n",
       "  '19.09']]"
      ]
     },
     "execution_count": 23,
     "metadata": {},
     "output_type": "execute_result"
    }
   ],
   "source": [
    "import csv\n",
    "\n",
    "#Open the CSV file and read the content\n",
    "with open('USVideos_clean.csv', encoding=\"utf-8\") as file:\n",
    "    \n",
    "    #Train a file reader\n",
    "    reader = csv.reader(file, delimiter=',')\n",
    "    \n",
    "    #this reads and remove the first line of the data, which is the header of the csv\n",
    "    #We do this because we only want the data and not the header\n",
    "    header = next(reader)\n",
    "    \n",
    "    #Create a list to hold all the csv data\n",
    "    youtube_usa_videos = []\n",
    "    \n",
    "    #This will iterate through each data row in reader, and store in 'row' variable\n",
    "    for row in reader:\n",
    "        #print(type(row))\n",
    "        youtube_usa_videos.append(row)\n",
    "    \n",
    "    \n",
    "#print first three rows of the data\n",
    "youtube_usa_videos[0:3]        "
   ]
  },
  {
   "cell_type": "markdown",
   "metadata": {},
   "source": [
    "### Question 5 <font color='red'>[2 marks]</font>\n",
    "**Title of the most popular video (defined by video with highest number of likes)**\n",
    "\n",
    "Now, using the main data set, we want to start and collate some basic descriptive statistics. First up, make use of the iterative mechanism we learnt in class to find the titles of the top video in terms of the number of likes it has garnered. Your code should return the title of the video that has the most number of likes.\n",
    "\n",
    "<i> Hints\n",
    "1. Create the appropriate results containers \n",
    "2. Write a for loop to go through **youtube_usa_videos**\n",
    "3. Use the 'find the biggest number' approach. You can refer to your in-class notebook for this question.\n",
    "</i>\n",
    "\n",
    "**Expected Output:**\n",
    "\n",
    "    BTS (방탄소년단)'DNA' Official MV has the most likes of 2010366"
   ]
  },
  {
   "cell_type": "code",
   "execution_count": 34,
   "metadata": {},
   "outputs": [
    {
     "name": "stdout",
     "output_type": "stream",
     "text": [
      "BTS (방탄소년단) 'DNA' Official MV has the most likes of 2010366\n"
     ]
    }
   ],
   "source": [
    "# Write your code below:\n",
    "    # Title = Index 1\n",
    "    # Likes = Index 6 \n",
    "\n",
    "# 1. Create the appropriate results containers.\n",
    "highest_title = \" \"\n",
    "highest_likes = 0 \n",
    "\n",
    "# 2. Write a for loop to go through youtube_usa_videos. Use the 'find the biggest number' approach. \n",
    "for video in youtube_usa_videos: \n",
    "    \n",
    "    title = video[1]\n",
    "    likes = int(video[6]) \n",
    "    \n",
    "    if likes > highest_likes: \n",
    "        highest_likes = likes\n",
    "        highest_title = title\n",
    "\n",
    "print (highest_title, \"has the most likes of\", str(highest_likes))\n",
    "\n"
   ]
  },
  {
   "cell_type": "markdown",
   "metadata": {},
   "source": [
    "<b style=\"color:red\">TA's comments:</b><br>\n",
    "Correct :)"
   ]
  },
  {
   "cell_type": "markdown",
   "metadata": {},
   "source": [
    "### Question 6 <font color='red'>[4 marks]</font>\n",
    "\n",
    "**Find the video with the highest engagement rate**\n",
    "\n",
    "One of the common metrics used to evaluate YouTube channel success is the engagement rate (formula given below). \n",
    "<div class=\"alert alert-block alert-info\"><center>engagement_rate = video_comments/video_views\n",
    " </center></div>\n",
    "\n",
    "Let's find out which video has caused the most engagement amongst the YouTube community. Your code should show the video title and the engagement rate for that video.\n",
    "\n",
    "<b><i>There are instances where some videos get no views (i.e views == 0). In this case, engagement rate for that video will simply be 0.</b></i>\n",
    "\n",
    "<i> Hints\n",
    "1. Create the appropriate results containers\n",
    "2. Write a loop to go through **youtube_usa_videos**\n",
    "3. Check if **views == 0**. If this is true, you can let engagement rate be zero. If false, then you have to calcuate engagement rate\n",
    "4. Use the 'find the biggest number' approach to store the title, and engagement rate of the video with highest engagement rate\n",
    "</i>\n",
    "\n",
    "**Expected output:**\n",
    "\n",
    "    What you NEED to start a YouTube channel (YIAY #364) 0.058019422732535915"
   ]
  },
  {
   "cell_type": "code",
   "execution_count": 33,
   "metadata": {},
   "outputs": [
    {
     "name": "stdout",
     "output_type": "stream",
     "text": [
      "What you NEED to start a YouTube channel (YIAY #364) 0.058019422732535915\n"
     ]
    }
   ],
   "source": [
    "# Write your code below:\n",
    "    # Title = Index 1\n",
    "    # Views = Index 5\n",
    "    # Comments = Index 8 \n",
    "    \n",
    "# 1. Create the appropriate results containers. \n",
    "highest_title = \" \"\n",
    "highest_engagement = 0\n",
    "\n",
    "# 2. Write a loop to go through youtube_usa_videos \n",
    "for video in youtube_usa_videos: \n",
    "    title = video[1]\n",
    "    views = int(video[5])\n",
    "    comments = int(video[8])\n",
    "    \n",
    "    # 3. Check if views == 0. If this is true,engagement rate = 0. If false, calcuate engagement rate.\n",
    "    if views == 0: \n",
    "        engagement_rate = 0 \n",
    "    else: \n",
    "        engagement_rate = comments/views \n",
    "        \n",
    "    # Use the 'find the biggest number' approach to find video with highest engagement rate. \n",
    "    if engagement_rate > highest_engagement: \n",
    "        highest_engagement = engagement_rate\n",
    "        highest_title = title\n",
    "\n",
    "print (highest_title, highest_engagement)\n",
    "\n"
   ]
  },
  {
   "cell_type": "markdown",
   "metadata": {},
   "source": [
    "<b style=\"color:red\">TA's comments:</b><br>\n",
    "Correct :)"
   ]
  },
  {
   "cell_type": "markdown",
   "metadata": {},
   "source": [
    "### Question 7 <font color='red'>[4 marks]</font>\n",
    "\n",
    "**Finding the most controversial video based on the likes to dislikes**\n",
    "\n",
    "To evaluate whether a YouTube video controversial, we can examine the likes and dislikes score(formula given below). \n",
    "<div class=\"alert alert-block alert-info\">\n",
    "<center>\n",
    "Likes % = Likes / (Likes + Dislikes)</center>\n",
    "<center>\n",
    "Dislikes % = Dislikes / (Likes + Dislikes) </center>   \n",
    "<center>   \n",
    "Controversial Score = Absolute difference between likes % and dislikes %</center>   \n",
    "</div>\n",
    "\n",
    "To find the most controversial video, the difference between the 2 percentages (likes% and dislikes%) must be kept to as close to 0 as possible (i.e 0.5 - 0.5 = 0). We can use the `abs()` function to get the absolute value of the difference. \n",
    "\n",
    "In order to make sure that we filter the videos with low likes/dislikes, we only want videos with at least, either, more than 10000 likes or 10000 dislikes.  \n",
    "\n",
    "<i> Hints\n",
    "1. Create the appropriate results containers to store (You need 2)\n",
    "2. Create a for loop to go through **youtube_usa_videos**\n",
    "3. Make use of conditionals to filter away videos that has more than 10k likes or dislikes\n",
    "4. For videos that meet the condition, calculate the Controversial Score\n",
    "5. Use the 'find the smallest number' approach that you went through in the in-class notebook to find and store the video with the lowest likes-dislike ratio\n",
    "6. This is a question that basically combines the 'find the smallest number' approach with a new calculation for  Controversial Score\n",
    "</i>\n",
    "\n",
    "**Expected Output:**\n",
    "\n",
    "    'Kylie Jenner Is Pregnant! | TMZ News' - 0.01050842910164107\n"
   ]
  },
  {
   "cell_type": "code",
   "execution_count": 76,
   "metadata": {},
   "outputs": [
    {
     "name": "stdout",
     "output_type": "stream",
     "text": [
      "Kylie Jenner Is Pregnant! | TMZ News - 0.01050842910164107\n"
     ]
    }
   ],
   "source": [
    "# Write your code below:\n",
    "    # Title = Index 1\n",
    "    # Likes = Index 6 \n",
    "    # Dislikes = Index 7 \n",
    "\n",
    "# 1. Create the appropriate results containers to store. I assumed the highest controversial score can ever be is 1. \n",
    "lowest_title = \" \"\n",
    "lowest_controversial_score = 1\n",
    "\n",
    "# 2. Create a for loop to go through youtube_usa_videos.\n",
    "for video in youtube_usa_videos: \n",
    "    title = video[1]\n",
    "    likes = int(video[6])\n",
    "    dislikes = int(video[7])\n",
    "    \n",
    "    # 3. Make use of conditionals to filter away videos that has less than 10k likes or dislikes. \n",
    "    if likes > 10000 or dislikes > 10000: \n",
    "        likes_ratio = likes / (likes + dislikes)\n",
    "        dislikes_ratio = dislikes / (likes + dislikes)\n",
    "        controversial_score = abs(likes_ratio - dislikes_ratio) \n",
    "\n",
    "    # Use the 'find the smallest number' approach to find and store the video with the lowest likes-dislike ratio\n",
    "    if controversial_score < lowest_controversial_score: \n",
    "        lowest_controversial_score = controversial_score\n",
    "        lowest_title = title \n",
    "\n",
    "print (lowest_title,\"-\", lowest_controversial_score)\n",
    "        \n",
    "    "
   ]
  },
  {
   "cell_type": "markdown",
   "metadata": {},
   "source": [
    "<b style=\"color:red\">TA's comments:</b><br>\n",
    "Correct :)"
   ]
  },
  {
   "cell_type": "markdown",
   "metadata": {},
   "source": [
    "### Question 8 <font color='red'>[8 marks]</font>\n",
    "\n",
    "**Finding the title of the most popular video based on more than one condition**\n",
    "\n",
    "It's all well and good that we managed to find the most popular video in terms of number of likes. However, that may not necessarily mean that the video was the most popular. The particular video may have had more dislikes than likes even though it had the highest number of likes amongst all videos. \n",
    "\n",
    "We need to consider other factors to make our analysis more holistic and robust (This is the kind of rigour you need to have for other problem types in data analytics).<br><br>\n",
    "\n",
    "**Let’s find the most popular video that fits all of the following conditions:**\n",
    "\n",
    "1. The video must have more number of likes than dislikes\n",
    "2. The video must have more views than the average number of views amongst all videos\n",
    "3. After satisfying the two conditions above, <b>the video title with the highest likes is what we are looking for</b>\n",
    "\n",
    "Your algorithm should return the title of the video that fits the condition stated.\n",
    "\n",
    "<i> Hints\n",
    "1. Create the appropriate results containers\n",
    "2. Use 2 INDEPENDENT for loops\n",
    "    - 1st for loop:\n",
    "        - Calculate the total views and number of videos (So that later on we can use this to calculate average) \n",
    "        - Filter (i.e the entire video list) for condition 1 (shown above) and append those videos that fulfil the condition into a new list\n",
    "    - Calculate average number of views\n",
    "    - 2nd for loop: \n",
    "        - Use the list of filtered videos from the 1st for loop and check for condition 2\n",
    "        - For videos that meets condition 2, use the 'find biggest number' approach to store the video with the highest numbber of likes\n",
    "</i>\n",
    "\n",
    "**Expected Output:**\n",
    "\n",
    "    BTS (방탄소년단) 'DNA' Official MV has the most likes of 2010366"
   ]
  },
  {
   "cell_type": "code",
   "execution_count": 58,
   "metadata": {},
   "outputs": [
    {
     "name": "stdout",
     "output_type": "stream",
     "text": [
      "BTS (방탄소년단) 'DNA' Official MV has the most likes of 2010366\n"
     ]
    }
   ],
   "source": [
    "# Write your code below:\n",
    "    # Title = Index 1\n",
    "    # Views = Index 5 \n",
    "    # Likes = Index 6 \n",
    "    # Dislikes = Index 7 \n",
    "\n",
    "# 1. Create the appropriate results containers. \n",
    "total_views = 0 \n",
    "total_videos = 0 \n",
    "likes_exceed_dislikes = []\n",
    "highest_title = \" \"\n",
    "highest_likes = 0\n",
    "\n",
    "# 2. Use 2 independent for loops. \n",
    "\n",
    "for video in youtube_usa_videos: \n",
    "    views = int(video[5])\n",
    "    likes = int(video[6])\n",
    "    dislikes = int(video[7])\n",
    "        \n",
    "     # Calculate the total views, total number of videos and average.  \n",
    "    total_views += views\n",
    "    total_videos = len(youtube_usa_videos)\n",
    "    average = total_views/total_videos \n",
    "    \n",
    "    # Filter (i.e the entire video list) for condition 1 (shown above) and append to a new list. \n",
    "    if likes > dislikes: \n",
    "        likes_exceed_dislikes.append(video)\n",
    "    \n",
    "for video in likes_exceed_dislikes: \n",
    "    title = video[1]\n",
    "    views = int(video[5])\n",
    "    likes = int(video[6])\n",
    "    \n",
    "    # Use the list of filtered videos from the 1st for loop and check for condition 2. \n",
    "     # Use \"find biggest number\" approach to store the video with highest number of likes. \n",
    "    if views > average and likes > highest_likes: \n",
    "        highest_likes = likes \n",
    "        highest_title = title\n",
    "    \n",
    "print (highest_title, \"has the most likes of\", int(highest_likes))\n",
    "\n"
   ]
  },
  {
   "cell_type": "markdown",
   "metadata": {},
   "source": [
    "<b style=\"color:red\">TA's comments:</b><br>\n",
    "Correct :) <br>\n",
    "Better to calculate average outside of first loop"
   ]
  },
  {
   "cell_type": "markdown",
   "metadata": {},
   "source": [
    "### Question 9 <font color='red'>[8 marks]</font>\n",
    "\n",
    "**Finding the most popular channel based on the total engagement rate**\n",
    "\n",
    "One of the common metrics used to evaluate YouTube channel success is the engagement rate (formula given below). \n",
    "<div class=\"alert alert-block alert-info\"><center>engagement_rate = video_comments/video_views\n",
    " </center></div>\n",
    "\n",
    "You should have noticed by now that a channel can have more than one video. This time, we want to find the most popular channel in our database in terms of the **total engagement rate**. Basically you need to first tabulate the **engagement rate** for each channel, and thereafter you can begin to compare.\n",
    "\n",
    "<b><i>There are instances where some videos get no views (i.e views == 0), so the overall engagement rate will be 0.</b></i>\n",
    "\n",
    "<i> Hints\n",
    "1. Create the appropriate results containers (for the first loop, you need two dictionary)\n",
    "2. Use 2 INDEPENDENT for loops\n",
    "    - 1st for loop (loop through youtube_usa_videos):\n",
    "        - Make use of the dictionary counting method, illustrated in warmup question 1\n",
    "        - **Check if a channel exists in the dictionary storing the number of comments for each channel.** If it does, then increment the count of the comment for the channel by the number of comments for that particular video, if not, then create an instance of that in the dictionary, and let the count be the number of comments for that particular video\n",
    "        - **Check if a channel exists in the dictionary storing the number of video views for each channel.** If it does, then increment the count of the comment for the channel by the number of views for that particular video, if not, then create an instance of that in the dictionary, and let the count be the number of views for that particular video<br><br>\n",
    "        **An example of the concept required for the above (Note: this is not the exact code):**<br><br>\n",
    "        comments_dict = {}\n",
    "        \n",
    "        if channel_title in comments_dict:\n",
    "                  comments_dict[channel_title] = num_of_comments\n",
    "        else:\n",
    "                  comments_dict[channel_title] += num_of_comments\n",
    "    - 2nd for loop: \n",
    "        - Loop through the dictionary with number of views for each channel (to loop through a dictionary you need to use the .items() function). This will return you two items each loop: (1) channel title, and (2) number of views\n",
    "        - Check if the number of views is zero, if not, then continue with the following steps\n",
    "        - Find the engagement rate of the channel using the formula (hint: you can use the **channel_title to access the number of comments in the comments dictionary**, cause they have the same key in both dictionaries)\n",
    "        - Use the 'find biggest number' approach to store the video with the highest engagement rate\n",
    "\n",
    "</i>\n",
    "\n",
    "*There is a more advanced method, approach your TAs/Instructors for hints for that other method\n",
    "\n",
    "**Expected Output:**\n",
    "\n",
    "    euronews (in English) - 0.039742451154529304\n"
   ]
  },
  {
   "cell_type": "code",
   "execution_count": 75,
   "metadata": {},
   "outputs": [
    {
     "name": "stdout",
     "output_type": "stream",
     "text": [
      "euronews (in English) -  0.039742451154529304\n"
     ]
    }
   ],
   "source": [
    "# Write your code below:\n",
    "    # Channel title = Index 2 \n",
    "    # Views = Index 5 \n",
    "    # Comments = Index 8\n",
    "\n",
    "# 1. Create the appropriate results containers. \n",
    "channel_comments = {}\n",
    "channel_views = {}\n",
    "highest_title = \" \"\n",
    "highest_engagement = 0\n",
    "\n",
    "# 2. Create 2 independent for loops. \n",
    "# Loop through the dictionary with number of views for each channel. \n",
    "for video in youtube_usa_videos: \n",
    "    channel_title = video[2]\n",
    "    views = int(video[5])\n",
    "    comments = int(video[8])\n",
    "    \n",
    "    \n",
    "    # Check if a channel exists in the dictionary storing the number of comments for each channel.\n",
    "    if channel_title not in channel_comments: \n",
    "        channel_comments[channel_title] = comments \n",
    "    else: \n",
    "        channel_comments[channel_title] += comments \n",
    "\n",
    "    # Check if a channel exists in the dictionary storing the number of video views for each channel. \n",
    "    if channel_title not in channel_views: \n",
    "        channel_views[channel_title] = views \n",
    "    else: \n",
    "        channel_views[channel_title] += views  \n",
    "\n",
    "# Loop through the dictionary with number of views for each channel. \n",
    "for channel_title, views in channel_views.items(): \n",
    "    \n",
    "    # Check if the number of views is zero, if not, then continue with the following steps. \n",
    "    if views == 0:\n",
    "        engagement_rate = 0 \n",
    "    \n",
    "    # Find the engagement rate of the channel using the formula. \n",
    "    else: \n",
    "        engagement_rate = int(channel_comments[channel_title]) /views\n",
    "\n",
    "        \n",
    "    # Use the 'find biggest number' approach to store the video with the highest engagement rate. \n",
    "    if engagement_rate > highest_engagement: \n",
    "        highest_engagement = engagement_rate\n",
    "        highest_title = channel_title\n",
    "\n",
    "print (highest_title, \"- \", highest_engagement)\n",
    "        \n",
    "        "
   ]
  },
  {
   "cell_type": "markdown",
   "metadata": {},
   "source": [
    "<b style=\"color:red\">TA's comments:</b><br>\n",
    "Correct :)"
   ]
  },
  {
   "cell_type": "markdown",
   "metadata": {},
   "source": [
    "### Question 10 <font color='red'>[8 marks]</font>\n",
    "\n",
    "**Finding the most controversial channel based on the likes to dislikes ratio**\n",
    "\n",
    "To evaluate whether a YouTube channel controversial, we can examine the likes and dislikes ratio(formula given below). \n",
    "<div class=\"alert alert-block alert-info\">\n",
    "<center>\n",
    "Likes % = Likes / (Likes + Dislikes)</center>\n",
    "<center>\n",
    "Dislikes % = Dislikes / (Likes + Dislikes) </center>   \n",
    "<center>   \n",
    "Controversial Score = Absolute difference between likes % and dislikes %</center>   \n",
    "</div>\n",
    "\n",
    "\n",
    "To find the most controversial channel, the difference between the 2 percentages must be kept to as close to 0 as possible (i.e 0.5 - 0.5 = 0). As such, use the `abs()` function to get the absolute value of the difference. \n",
    "\n",
    "In order to make sure that we filter the videos with low likes/dislikes, we only want videos with at least, either, more than 10000 likes or 10000 dislikes.  \n",
    "\n",
    "As you would have noticed, this channel has multiple videos, and we would want to find which channel is the most controversial based on their likes to dislikes ratio.\n",
    "\n",
    "<i> Hints\n",
    "1. Create the appropriate results containers (for the first loop, you need two dictionary)\n",
    "2. Use 2 INDEPENDENT for loops\n",
    "    - 1st for loop (loop through youtube_usa_videos):\n",
    "        - Make use of the dictionary counting method, illustrated in warmup question 1\n",
    "        - First, check if the video has more than 10000 likes or 10000 dislikes, if so then proceed with the following steps\n",
    "        - **Check if a channel exists in the dictionary storing the number of likes for each channel.** If it does, then increment the count of the likes for the channel by the number of likes for that particular video, if not, then create an instance of that in the dictionary, and let the count be the number of likes for that particular video\n",
    "        - **Check if a channel exists in the dictionary storing the number of dislikes for each channel.** If it does, then increment the count of the dislikes for the channel by the number of dislikes for that particular video, if not, then create an instance of that in the dictionary, and let the count be the number of dislikes for that particular video<br><br>\n",
    "        **An example of the concept required for the above (Note: this is not the exact code):**<br><br>\n",
    "        likes_dict = {}\n",
    "        \n",
    "        if channel_title in likes_dict:\n",
    "                  likes_dict[channel_title] = num_of_likes\n",
    "        else:\n",
    "                  likes_dict[channel_title] += num_of_likes \n",
    "    - 2nd for loop: \n",
    "        - Loop through the dictionary with number of likes for each channel (to loop through a dictionary you need to use the .items() function). This will return you two items each loop: (1) channel title, and (2) number of likes\n",
    "        - Calculate the likes-dislikes ratio using the formula shown. You will need to make use of the Abs() function. (hint: you can use the **channel_title to access the number of dislikes in the dislikes dictionary**, cause they have the same key in both dictionaries)\n",
    "        - Use the 'find lowest number' approach to store the video with the lowest controversy score\n",
    "\n",
    "</i>\n",
    "\n",
    "*There is a more advanced method, approach your TAs/Instructors for hints for that other method\n",
    "\n",
    "**Expected Output:**\n",
    "\n",
    "    TMZ - 0.01050842910164107"
   ]
  },
  {
   "cell_type": "code",
   "execution_count": 80,
   "metadata": {
    "scrolled": true
   },
   "outputs": [
    {
     "name": "stdout",
     "output_type": "stream",
     "text": [
      "TMZ - 0.01050842910164107\n"
     ]
    }
   ],
   "source": [
    "# Write your code below:\n",
    "    # Video title = Index 1\n",
    "    # Channel title = Index 2\n",
    "    # Views = Index 5 \n",
    "    # Likes = Index 6 \n",
    "    # Dislikes = Index 7 \n",
    "\n",
    "#1.Create the appropriate results containers. I assumed the highest controversial score can ever be is 1.\n",
    "channel_likes = {}\n",
    "channel_dislikes = {}\n",
    "lowest_controversial_score = 1 \n",
    "lowest_title = \" \"\n",
    "\n",
    "\n",
    "#2.Use 2 INDEPENDENT for loops\n",
    "# Loop through the dictionary with number of likes for each channel. \n",
    "for video in youtube_usa_videos:\n",
    "    video_title = video[1]\n",
    "    channel_title = video[2]\n",
    "    likes = int(video[6])\n",
    "    dislikes = int(video[7])\n",
    "    \n",
    "    if likes > 10000 or dislikes > 10000: \n",
    "    # Check if the video has more than 10000 likes or 10000 dislikes, if so then proceed with the following steps. \n",
    "\n",
    "        # Check if a channel exists in the dictionary storing the number of likes for each channel. \n",
    "        if channel_title not in channel_likes: \n",
    "            channel_likes[channel_title] = likes \n",
    "        else: \n",
    "            channel_likes[channel_title] += likes\n",
    "        \n",
    "        # Check if a channel exists in the dictionary storing the number of dislikes for each channel. \n",
    "        if channel_title not in channel_dislikes: \n",
    "            channel_dislikes[channel_title] = dislikes \n",
    "        else: \n",
    "            channel_dislikes[channel_title] += dislikes\n",
    "        \n",
    "# Loop through the dictionary with number of likes for each channel \n",
    "for channel_title, likes in channel_likes.items(): \n",
    "    dislikes = channel_dislikes[channel_title]    \n",
    "    \n",
    "    likes_ratio = likes / (likes + dislikes)\n",
    "    dislikes_ratio = dislikes / (likes + dislikes)\n",
    "    controversial_score = abs(likes_ratio - dislikes_ratio)\n",
    "\n",
    "    # Use the 'find the smallest number' approach to find and store the video with the lowest likes-dislike ratio\n",
    "    if controversial_score < lowest_controversial_score: \n",
    "        lowest_controversial_score = controversial_score\n",
    "        lowest_title = channel_title \n",
    "\n",
    "print (lowest_title,\"-\", lowest_controversial_score)\n",
    "\n"
   ]
  },
  {
   "cell_type": "markdown",
   "metadata": {},
   "source": [
    "<b style=\"color:red\">TA's comments:</b><br>\n",
    "Correct :)"
   ]
  }
 ],
 "metadata": {
  "kernelspec": {
   "display_name": "Python 3",
   "language": "python",
   "name": "python3"
  },
  "language_info": {
   "codemirror_mode": {
    "name": "ipython",
    "version": 3
   },
   "file_extension": ".py",
   "mimetype": "text/x-python",
   "name": "python",
   "nbconvert_exporter": "python",
   "pygments_lexer": "ipython3",
   "version": "3.7.3"
  },
  "varInspector": {
   "cols": {
    "lenName": 16,
    "lenType": 16,
    "lenVar": 40
   },
   "kernels_config": {
    "python": {
     "delete_cmd_postfix": "",
     "delete_cmd_prefix": "del ",
     "library": "var_list.py",
     "varRefreshCmd": "print(var_dic_list())"
    },
    "r": {
     "delete_cmd_postfix": ") ",
     "delete_cmd_prefix": "rm(",
     "library": "var_list.r",
     "varRefreshCmd": "cat(var_dic_list()) "
    }
   },
   "types_to_exclude": [
    "module",
    "function",
    "builtin_function_or_method",
    "instance",
    "_Feature"
   ],
   "window_display": false
  }
 },
 "nbformat": 4,
 "nbformat_minor": 2
}
