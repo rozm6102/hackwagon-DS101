{
 "cells": [
  {
   "cell_type": "markdown",
   "metadata": {},
   "source": [
    "<img src=\"https://i2.wp.com/hackwagon.com/wp-content/uploads/2017/02/Logo-Web-Export.png?ssl=1\" width=200/>\n",
    "\n",
    "<h1>Hackwagon Academy - DS101 Lab 3</h1>\n",
    "<hr>\n",
    "This lab exercise consists of 10 questions, with each correct answer to be awarded 2 marks, totalling up to 20 marks.\n",
    "\n",
    "<b> Codes with any errors/ mistakes are awarded 0 marks </b>"
   ]
  },
  {
   "cell_type": "code",
   "execution_count": null,
   "metadata": {},
   "outputs": [],
   "source": [
    "#Before you start, please perform the following 2 steps:\n",
    "#1. Rename the file to <First_Name>_<Last_Name>_DS101_Lab_1 e.g. john_doe_DS101_Lab_1\n",
    "\n",
    "#2. Fill in your details here:\n",
    "#Name                    : __Rozalin Mohanty______\n",
    "\n",
    "#Start of Course Class(Edit accordingly): __18 Jul 2020 12.30pm____\n",
    "\n",
    "# FOR TA/INSTRUCTOR \n",
    "# Total Marks:  / 20"
   ]
  },
  {
   "cell_type": "markdown",
   "metadata": {},
   "source": [
    "## Warm Up\n",
    "### Question 1 <font color='red'>[2 marks]</font>\n",
    "\n",
    "Print out the numbers 1 to 10 using the `range()` function and a `for` loop\n",
    "\n",
    "#### Expected Output:\n",
    "    \n",
    "    1\n",
    "    2\n",
    "    3\n",
    "    4\n",
    "    5\n",
    "    6\n",
    "    7\n",
    "    8\n",
    "    9\n",
    "    10"
   ]
  },
  {
   "cell_type": "code",
   "execution_count": 1,
   "metadata": {},
   "outputs": [
    {
     "name": "stdout",
     "output_type": "stream",
     "text": [
      "1\n",
      "2\n",
      "3\n",
      "4\n",
      "5\n",
      "6\n",
      "7\n",
      "8\n",
      "9\n",
      "10\n"
     ]
    }
   ],
   "source": [
    "# Write your code below:\n",
    "\n",
    "for num in range(1,11):\n",
    "    print (num)\n"
   ]
  },
  {
   "cell_type": "markdown",
   "metadata": {},
   "source": [
    "### Question 2 <font color='red'>[2 marks]</font>\n",
    "Create a list of numbers containing 1 to 10 using the `range()` function and/ or a `for` loop. Please <b>do not</b> be cheeky by doing this:\n",
    "```python\n",
    "x = [1,2,3,4,5,6,7,8,9,10]\n",
    "print(x)\n",
    "```\n",
    "#### Expected Output:\n",
    "\n",
    "    [1,2,3,4,5,6,7,8,9,10]"
   ]
  },
  {
   "cell_type": "code",
   "execution_count": 2,
   "metadata": {},
   "outputs": [
    {
     "name": "stdout",
     "output_type": "stream",
     "text": [
      "[1, 2, 3, 4, 5, 6, 7, 8, 9, 10]\n"
     ]
    }
   ],
   "source": [
    "# Write your code below:\n",
    "\n",
    "x = []\n",
    "for num in range(1,11):\n",
    "    x.append(num)\n",
    "    \n",
    "print (x)\n"
   ]
  },
  {
   "cell_type": "markdown",
   "metadata": {},
   "source": [
    "## Loop Applications \n",
    "\n",
    "Use the CIETU Framework to solve each of your problems.\n",
    "\n",
    "1. <b>Create</b> the results container\n",
    "2. <b>Iterate</b> over the input data/list\n",
    "3. <b>Extract</b> the necessary value\n",
    "4. <b>Test</b> conditions of each value\n",
    "5. <b>Update</b> the results container when condition is fulfilled"
   ]
  },
  {
   "cell_type": "markdown",
   "metadata": {},
   "source": [
    "### Question 3 <font color='red'>[2 marks]</font>\n",
    "Imagine you are an employee of DBS, and you are provided with `data` containing deposit amounts of each client. Make use of a `for` loop to find and print out the <b>highest amount.</b> Do not use in-built functions e.g. `max()`\n",
    "\n",
    "#### Expected Output: \n",
    "    9480938.2"
   ]
  },
  {
   "cell_type": "code",
   "execution_count": 3,
   "metadata": {},
   "outputs": [
    {
     "name": "stdout",
     "output_type": "stream",
     "text": [
      "9480938.2\n"
     ]
    }
   ],
   "source": [
    "data = [73284, 8784.3, 9480938.2, 984958.3, 24131, 45789, 734987, 23545.3, 894859.2, 842758.3]\n",
    "\n",
    "# Write your code below:\n",
    "\n",
    "maximum = data[0]\n",
    "for amount in data: \n",
    "    if amount > maximum: \n",
    "        maximum  = amount\n",
    "        \n",
    "print (maximum)\n"
   ]
  },
  {
   "cell_type": "markdown",
   "metadata": {},
   "source": [
    "### Question 4 <font color='red'>[2 marks]</font>\n",
    "Imagine right now you are working at DBS, and you are provided with the following data of deposit amount by each client. Store any deposit amounts <b>larger than 50000</b> in `high_networth`\n",
    "1. Make use of a `for` loop to iterate over your dataset\n",
    "2. Filter for deposit amounts larger than 50000\n",
    "3. Store those amounts that makes the cut into `high_networth` \n",
    "\n",
    "<i> Hint: Remember the <code>.append()</code> method? </i>\n",
    "\n",
    "#### Expected Output:\n",
    "    [73284, 9480938.2, 984958.3, 734987, 894859.2, 842758.3]"
   ]
  },
  {
   "cell_type": "code",
   "execution_count": 4,
   "metadata": {},
   "outputs": [
    {
     "name": "stdout",
     "output_type": "stream",
     "text": [
      "[73284, 9480938.2, 984958.3, 734987, 894859.2, 842758.3]\n"
     ]
    }
   ],
   "source": [
    "data = [73284, 8784.3, 9480938.2, 984958.3, 24131, 45789, 734987, 23545.3, 894859.2, 842758.3]\n",
    "high_networth = []\n",
    "\n",
    "# Write your code below:\n",
    "\n",
    "for amount in data: \n",
    "    if amount > 50000: \n",
    "        high_networth.append(amount)\n",
    "        \n",
    "print (high_networth)\n"
   ]
  },
  {
   "cell_type": "markdown",
   "metadata": {},
   "source": [
    "### Question 5 <font color='red'>[2 marks]</font>\n",
    "\n",
    "To further improve its database, DBS has changed the way in which it stores its data. Data are now stored in the form of a dictionary, with the key being the client's name, and the corresponding value being his networth. \n",
    "\n",
    "Utilise your knowledge of the CIETU framework to find and return the <b>name of the client with the highest networth.</b> \n",
    "\n",
    "<i> Hint: To iterate a dictionary you have to use <code>.items()</code> and it gives you a tuples containing both the key and value in each iteration</i>\n",
    "\n",
    "#### Expected Output:\n",
    "    \n",
    "    Uee has the highest networth at $9480938.2"
   ]
  },
  {
   "cell_type": "code",
   "execution_count": 277,
   "metadata": {},
   "outputs": [
    {
     "name": "stdout",
     "output_type": "stream",
     "text": [
      "Uee has the highest networth at $9480938.2\n"
     ]
    }
   ],
   "source": [
    "data = {\n",
    "    'Jeremy':73284, \n",
    "    'Hansel':8784.3, \n",
    "    'Smith':9320516.1, \n",
    "    'Seolhyun':984958.3, \n",
    "    'Ketsuno Ana':24131, \n",
    "    'Trump':45789,\n",
    "    'Uee':9480938.2\n",
    "}\n",
    "\n",
    "# Write your code below:\n",
    "\n",
    "data_list = list(data.items())\n",
    "amount = data_list[0][1]\n",
    "highest_networth = []\n",
    "\n",
    "for key, value in data.items(): \n",
    "    if value > amount: \n",
    "        amount = value\n",
    "        highest_networth = key, value\n",
    "\n",
    "print (highest_networth[0],'has the highest networth at $'+ str(highest_networth[1]))\n"
   ]
  },
  {
   "cell_type": "markdown",
   "metadata": {},
   "source": [
    "### Question 6 <font color='red'>[2 marks]</font>\n",
    "\n",
    "DBS has further improved its database. And you can observe that DBS now has more information about her clients. Make use of a for loop to find the <b>average salary among all her clients</b> rounded to <u>2 decimal places</u>\n",
    "\n",
    "<i>Hint: Go back to your lab 2 consolidation question 2 to revise how to access data from a nested list of dictionary. You can also use the `round()` function to round the values to 2 decimal places.</i>\n",
    "\n",
    "**Expected output:**\n",
    "\n",
    "    Average salary amongst all clients is $3721152.33"
   ]
  },
  {
   "cell_type": "code",
   "execution_count": 76,
   "metadata": {},
   "outputs": [
    {
     "name": "stdout",
     "output_type": "stream",
     "text": [
      "Average salary amongst all clients is $3721152.33\n"
     ]
    }
   ],
   "source": [
    "DBS = [\n",
    "    {'Name':'Rick Jones', 'Job':'Software Engineer', 'Salary':909802},\n",
    "    {'Name':'Marissa Meyer', 'Job':'COO', 'Salary':9320809},\n",
    "    {'Name':'Avril Ting', 'Job':'MD', 'Salary':932846}\n",
    "]\n",
    "\n",
    "# Write your code below:\n",
    "\n",
    "total_salary = 0\n",
    "for client in DBS: \n",
    "    total_salary += client['Salary']\n",
    "\n",
    "no_of_clients = len(DBS)\n",
    "\n",
    "average_salary = round((total_salary/no_of_clients),2) \n",
    "\n",
    "print ('Average salary amongst all clients is $' + str(average_salary))\n",
    "\n"
   ]
  },
  {
   "cell_type": "markdown",
   "metadata": {},
   "source": [
    "## Importing Data From A File\n",
    "The next two questions will be the <b>first time</b> you are using a [dataset](https://data.gov.sg/dataset/public-transport-utilisation-average-public-transport-ridership) from the Singapore government's open data portal at Data.gov.sg. The data consists of the average ridership of Singapore's public transport system, in 4 different types: Bus, MRT, Taxi, LRT. \n",
    "\n",
    "Below is a snippet/preview of how the data looks like in Microsoft Excel: \n",
    "\n",
    "<img src=\"https://i.imgur.com/Z4Qo9u3.png\" width=\"300\">\n",
    "\n",
    "After running the next cell, you will get a <b>LIST</b> of <b>DICTIONARIES</b>, `public_transport_ridership`,that looks like this:\n",
    "```python\n",
    "    [\n",
    "        {\n",
    "            'year': 1995,\n",
    "            'type_of_public_transport': 'MRT',\n",
    "            'average_ridership': 740000\n",
    "        },\n",
    "        {\n",
    "            'year': 1995, \n",
    "            'type_of_public_transport': 'LRT', \n",
    "            'average_ridership': 0\n",
    "        },\n",
    "        {\n",
    "            'year': 1995,\n",
    "            'type_of_public_transport': 'Bus',\n",
    "            'average_ridership': 3009000\n",
    "        },\n",
    "        ....\n",
    "    ]\n",
    "```\n",
    "There are a total of 88 rows of data in this list of dictionaries, i.e 88 dictionaries.  \n",
    "\n",
    "\n",
    "<font color=\"red\"><b>Do not be alarmed by the next codes you see.</b></font> You only have to execute this next cell by pressing <b>`SHIFT-ENTER` or `SHIFT-RETURN` or the`Run Button`. </b>"
   ]
  },
  {
   "cell_type": "code",
   "execution_count": 80,
   "metadata": {},
   "outputs": [
    {
     "data": {
      "text/plain": [
       "[{'year': 1995,\n",
       "  'type_of_public_transport': 'MRT',\n",
       "  'average_ridership': 740000},\n",
       " {'year': 1995, 'type_of_public_transport': 'LRT', 'average_ridership': 0},\n",
       " {'year': 1995,\n",
       "  'type_of_public_transport': 'Bus',\n",
       "  'average_ridership': 3009000},\n",
       " {'year': 1995, 'type_of_public_transport': 'Taxi', 'average_ridership': 0},\n",
       " {'year': 1996,\n",
       "  'type_of_public_transport': 'MRT',\n",
       "  'average_ridership': 850000}]"
      ]
     },
     "execution_count": 80,
     "metadata": {},
     "output_type": "execute_result"
    }
   ],
   "source": [
    "import csv\n",
    "\n",
    "# an empty list to store each row of data\n",
    "public_transport_ridership = []\n",
    "\n",
    "with open('public-transport-utilisation-average-public-transport-ridership.csv', encoding='utf-8', newline='') as file:\n",
    "    reader = csv.DictReader(file, delimiter = ',')\n",
    "    \n",
    "    for row in reader:\n",
    "        # changes the string to int\n",
    "        row['year'] = int(row['year'])\n",
    "        row['average_ridership'] = int(row['average_ridership'])\n",
    "        \n",
    "        # adds 1 row of data to the list\n",
    "        public_transport_ridership.append(dict(row))\n",
    "    \n",
    "# previews the first 5 rows\n",
    "public_transport_ridership[:5]"
   ]
  },
  {
   "cell_type": "markdown",
   "metadata": {},
   "source": [
    "### Question 7 <font color='red'>[2 marks]</font>\n",
    "Using the `public_transport_ridership` list created earlier, find the year with the <b>highest</b> average ridership for <b>Taxis</b>.\n",
    "\n",
    "Expected output:\n",
    "    \n",
    "    2014 has the highest Taxi ridership with an average of 1020000 riders"
   ]
  },
  {
   "cell_type": "code",
   "execution_count": 278,
   "metadata": {},
   "outputs": [
    {
     "name": "stdout",
     "output_type": "stream",
     "text": [
      "2014 has the highest Taxi ridership with an average of 1020000 riders\n"
     ]
    }
   ],
   "source": [
    "# Write your code below:\n",
    "\n",
    "taxi_ridership = []\n",
    "for entry in public_transport_ridership: \n",
    "    if entry['type_of_public_transport'] == 'Taxi': \n",
    "        taxi_ridership.append(entry)      \n",
    "        \n",
    "highest_average_ridership = {}\n",
    "number = taxi_ridership[0]['average_ridership']\n",
    "\n",
    "for entry in taxi_ridership:\n",
    "    if entry['average_ridership'] > number: \n",
    "        number = entry['average_ridership']\n",
    "        highest_average_ridership = entry\n",
    "\n",
    "print ( highest_average_ridership['year'], 'has the highest Taxi ridership with an average of', highest_average_ridership['average_ridership'], 'riders' ) \n",
    "\n"
   ]
  },
  {
   "cell_type": "markdown",
   "metadata": {},
   "source": [
    "### Question 8 <font color='red'>[2 marks]</font>\n",
    "Using the `public_transport_ridership` list created earlier, <b>between 1995 to 2010</b>, find the year with the <b>highest</b> average ridership for <b>Buses</b>.\n",
    "\n",
    "Expected output:\n",
    "    \n",
    "    Between 1995 to 2010, 2001 has the highest Bus ridership with an average of 3281000 riders"
   ]
  },
  {
   "cell_type": "code",
   "execution_count": 222,
   "metadata": {},
   "outputs": [
    {
     "name": "stdout",
     "output_type": "stream",
     "text": [
      "Between 1995 to 2010, 2001 has the highest Bus ridership with an average of 3281000 riders\n"
     ]
    }
   ],
   "source": [
    "# Write your code below:\n",
    "\n",
    "bus_ridership = []\n",
    "for entry in public_transport_ridership: \n",
    "    if entry['type_of_public_transport'] == 'Bus': \n",
    "        bus_ridership.append(entry)  \n",
    "\n",
    "\n",
    "bus_ridership_9510 = []\n",
    "for entry in bus_ridership: \n",
    "    if entry['year']>1995 and entry['year']<2010: \n",
    "        bus_ridership_9510.append(entry)\n",
    "\n",
    "highest_average_ridership = {}\n",
    "number = bus_ridership_9510[0]['average_ridership']\n",
    "        \n",
    "for entry in bus_ridership_9510:\n",
    "    if entry['average_ridership'] > number: \n",
    "        number = entry['average_ridership']\n",
    "        highest_average_ridership = entry\n",
    "\n",
    "print ( 'Between 1995 to 2010,', highest_average_ridership['year'], 'has the highest Bus ridership with an average of', highest_average_ridership['average_ridership'], 'riders' ) \n",
    "\n"
   ]
  },
  {
   "cell_type": "markdown",
   "metadata": {},
   "source": [
    "## Debugging"
   ]
  },
  {
   "cell_type": "markdown",
   "metadata": {},
   "source": [
    "### Question 9 <font color='red'>[2 marks]</font>\n",
    "A newbie to programming wrote the following piece of code to check if <b>highest salary</b> from the database. However, her codes were met with syntax, logic bugs and exceptions. Debug the code for her\n",
    "\n",
    "**Expected Output:**\n",
    "\n",
    "    Marissa Meyer has the highest salary with $9320809 as a COO"
   ]
  },
  {
   "cell_type": "code",
   "execution_count": 279,
   "metadata": {},
   "outputs": [
    {
     "name": "stdout",
     "output_type": "stream",
     "text": [
      "Marissa Meyer has the highest salary with $9320809 as a COO\n"
     ]
    }
   ],
   "source": [
    "DBS = [\n",
    "    {'Name':'Rick Jones', 'Job':'Software Engineer', 'Salary':909802},\n",
    "    {'Name':'Marissa Meyer', 'Job':'COO', 'Salary':9320809},\n",
    "    {'Name':'Avril Ting', 'Job':'MD', 'Salary':932846}\n",
    "]\n",
    "\n",
    "highest_name = DBS[0]['Name']\n",
    "highest_job = DBS[0]['Job']\n",
    "highest_salary = DBS[0]['Salary']\n",
    "\n",
    "for row in DBS:\n",
    "    if row['Salary'] > highest_salary:\n",
    "        highest_salary = row['Salary']\n",
    "        highest_name = row['Name']\n",
    "        highest_job = row['Job']\n",
    "            \n",
    "print(highest_name, \"has the highest salary with $\" + str(highest_salary) + \" as a \" + highest_job)"
   ]
  },
  {
   "cell_type": "markdown",
   "metadata": {},
   "source": [
    "### Question 10 <font color='red'>[2 marks]</font>\n",
    "Another newbie to programming wrote the following piece of code to find the <b>average</b> networth of the data. However, his codes were met with syntax, logic bugs and exceptions. Debug the code for him and round the average networth to 2 decimal places\n",
    "\n",
    "**Expected Output:**\n",
    "\n",
    "    The average networth is $1769647.47"
   ]
  },
  {
   "cell_type": "code",
   "execution_count": 280,
   "metadata": {},
   "outputs": [
    {
     "name": "stdout",
     "output_type": "stream",
     "text": [
      "The average networth is $1769647.47\n"
     ]
    }
   ],
   "source": [
    "data = {\n",
    "    'Jeremy':73284, \n",
    "    'Hansel':8784.3, \n",
    "    'Uee':9480938.2, \n",
    "    'Seolhyun':984958.3, \n",
    "    'Ketsuno Ana':24131, \n",
    "    'Trump':45789\n",
    "}\n",
    "\n",
    "all_salary = 0\n",
    "for key,value in data.items():\n",
    "    all_salary += value\n",
    "\n",
    "average = round(all_salary/len(data),2)\n",
    "\n",
    "print(\"The average networth is $\" + str(average))"
   ]
  }
 ],
 "metadata": {
  "kernelspec": {
   "display_name": "Python 3",
   "language": "python",
   "name": "python3"
  },
  "language_info": {
   "codemirror_mode": {
    "name": "ipython",
    "version": 3
   },
   "file_extension": ".py",
   "mimetype": "text/x-python",
   "name": "python",
   "nbconvert_exporter": "python",
   "pygments_lexer": "ipython3",
   "version": "3.7.3"
  }
 },
 "nbformat": 4,
 "nbformat_minor": 2
}
